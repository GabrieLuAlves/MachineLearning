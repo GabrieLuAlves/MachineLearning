{
  "cells": [
    {
      "cell_type": "markdown",
      "metadata": {
        "id": "Eoquo10d90gl"
      },
      "source": [
        "# Imports"
      ]
    },
    {
      "cell_type": "code",
      "execution_count": 2,
      "metadata": {
        "id": "ZCIfMhjA9yl4"
      },
      "outputs": [],
      "source": [
        "import tensorflow as tf\n",
        "\n",
        "import matplotlib.pyplot as plt"
      ]
    },
    {
      "cell_type": "markdown",
      "metadata": {
        "id": "DFVjEu3BBQAC"
      },
      "source": [
        "# Definition of dataset"
      ]
    },
    {
      "cell_type": "code",
      "execution_count": null,
      "metadata": {
        "id": "AAQ9cj9lBRwT"
      },
      "outputs": [],
      "source": [
        "mnist = tf.keras.datasets.mnist\n",
        "\n",
        "(X_train, y_train), (X_test, y_test) = mnist.load_data()"
      ]
    },
    {
      "cell_type": "code",
      "execution_count": 4,
      "metadata": {
        "colab": {
          "base_uri": "https://localhost:8080/",
          "height": 287
        },
        "id": "IM_BDnm4BjwX",
        "outputId": "937ef113-ea36-4e6e-c9ba-065df443a054"
      },
      "outputs": [
        {
          "data": {
            "image/png": "[encoded data removed]",
            "text/plain": [
              "<Figure size 640x480 with 2 Axes>"
            ]
          },
          "metadata": {},
          "output_type": "display_data"
        }
      ],
      "source": [
        "plt.subplot(1, 2, 1)\n",
        "plt.imshow(X_train[0])\n",
        "plt.subplot(1, 2, 2)\n",
        "plt.imshow(X_train[1])\n",
        "plt.show()"
      ]
    },
    {
      "cell_type": "code",
      "execution_count": null,
      "metadata": {
        "colab": {
          "base_uri": "https://localhost:8080/"
        },
        "id": "P4RSSaivEHpY",
        "outputId": "2bb5d1f4-f68d-4329-f3c4-2e18e01fdc8e"
      },
      "outputs": [
        {
          "data": {
            "text/plain": [
              "array([7, 2, 1, ..., 4, 5, 6], dtype=uint8)"
            ]
          },
          "execution_count": 32,
          "metadata": {},
          "output_type": "execute_result"
        }
      ],
      "source": [
        "y_test"
      ]
    },
    {
      "cell_type": "markdown",
      "metadata": {
        "id": "GhbZFoHyD0Eh"
      },
      "source": [
        "# Preprocessing"
      ]
    },
    {
      "cell_type": "code",
      "execution_count": 6,
      "metadata": {
        "id": "V2UeJGNnC9PG"
      },
      "outputs": [
        {
          "data": {
            "text/plain": [
              "(array([[[0., 0., 0., ..., 0., 0., 0.],\n",
              "         [0., 0., 0., ..., 0., 0., 0.],\n",
              "         [0., 0., 0., ..., 0., 0., 0.],\n",
              "         ...,\n",
              "         [0., 0., 0., ..., 0., 0., 0.],\n",
              "         [0., 0., 0., ..., 0., 0., 0.],\n",
              "         [0., 0., 0., ..., 0., 0., 0.]],\n",
              " \n",
              "        [[0., 0., 0., ..., 0., 0., 0.],\n",
              "         [0., 0., 0., ..., 0., 0., 0.],\n",
              "         [0., 0., 0., ..., 0., 0., 0.],\n",
              "         ...,\n",
              "         [0., 0., 0., ..., 0., 0., 0.],\n",
              "         [0., 0., 0., ..., 0., 0., 0.],\n",
              "         [0., 0., 0., ..., 0., 0., 0.]],\n",
              " \n",
              "        [[0., 0., 0., ..., 0., 0., 0.],\n",
              "         [0., 0., 0., ..., 0., 0., 0.],\n",
              "         [0., 0., 0., ..., 0., 0., 0.],\n",
              "         ...,\n",
              "         [0., 0., 0., ..., 0., 0., 0.],\n",
              "         [0., 0., 0., ..., 0., 0., 0.],\n",
              "         [0., 0., 0., ..., 0., 0., 0.]],\n",
              " \n",
              "        ...,\n",
              " \n",
              "        [[0., 0., 0., ..., 0., 0., 0.],\n",
              "         [0., 0., 0., ..., 0., 0., 0.],\n",
              "         [0., 0., 0., ..., 0., 0., 0.],\n",
              "         ...,\n",
              "         [0., 0., 0., ..., 0., 0., 0.],\n",
              "         [0., 0., 0., ..., 0., 0., 0.],\n",
              "         [0., 0., 0., ..., 0., 0., 0.]],\n",
              " \n",
              "        [[0., 0., 0., ..., 0., 0., 0.],\n",
              "         [0., 0., 0., ..., 0., 0., 0.],\n",
              "         [0., 0., 0., ..., 0., 0., 0.],\n",
              "         ...,\n",
              "         [0., 0., 0., ..., 0., 0., 0.],\n",
              "         [0., 0., 0., ..., 0., 0., 0.],\n",
              "         [0., 0., 0., ..., 0., 0., 0.]],\n",
              " \n",
              "        [[0., 0., 0., ..., 0., 0., 0.],\n",
              "         [0., 0., 0., ..., 0., 0., 0.],\n",
              "         [0., 0., 0., ..., 0., 0., 0.],\n",
              "         ...,\n",
              "         [0., 0., 0., ..., 0., 0., 0.],\n",
              "         [0., 0., 0., ..., 0., 0., 0.],\n",
              "         [0., 0., 0., ..., 0., 0., 0.]]]),\n",
              " array([[[0., 0., 0., ..., 0., 0., 0.],\n",
              "         [0., 0., 0., ..., 0., 0., 0.],\n",
              "         [0., 0., 0., ..., 0., 0., 0.],\n",
              "         ...,\n",
              "         [0., 0., 0., ..., 0., 0., 0.],\n",
              "         [0., 0., 0., ..., 0., 0., 0.],\n",
              "         [0., 0., 0., ..., 0., 0., 0.]],\n",
              " \n",
              "        [[0., 0., 0., ..., 0., 0., 0.],\n",
              "         [0., 0., 0., ..., 0., 0., 0.],\n",
              "         [0., 0., 0., ..., 0., 0., 0.],\n",
              "         ...,\n",
              "         [0., 0., 0., ..., 0., 0., 0.],\n",
              "         [0., 0., 0., ..., 0., 0., 0.],\n",
              "         [0., 0., 0., ..., 0., 0., 0.]],\n",
              " \n",
              "        [[0., 0., 0., ..., 0., 0., 0.],\n",
              "         [0., 0., 0., ..., 0., 0., 0.],\n",
              "         [0., 0., 0., ..., 0., 0., 0.],\n",
              "         ...,\n",
              "         [0., 0., 0., ..., 0., 0., 0.],\n",
              "         [0., 0., 0., ..., 0., 0., 0.],\n",
              "         [0., 0., 0., ..., 0., 0., 0.]],\n",
              " \n",
              "        ...,\n",
              " \n",
              "        [[0., 0., 0., ..., 0., 0., 0.],\n",
              "         [0., 0., 0., ..., 0., 0., 0.],\n",
              "         [0., 0., 0., ..., 0., 0., 0.],\n",
              "         ...,\n",
              "         [0., 0., 0., ..., 0., 0., 0.],\n",
              "         [0., 0., 0., ..., 0., 0., 0.],\n",
              "         [0., 0., 0., ..., 0., 0., 0.]],\n",
              " \n",
              "        [[0., 0., 0., ..., 0., 0., 0.],\n",
              "         [0., 0., 0., ..., 0., 0., 0.],\n",
              "         [0., 0., 0., ..., 0., 0., 0.],\n",
              "         ...,\n",
              "         [0., 0., 0., ..., 0., 0., 0.],\n",
              "         [0., 0., 0., ..., 0., 0., 0.],\n",
              "         [0., 0., 0., ..., 0., 0., 0.]],\n",
              " \n",
              "        [[0., 0., 0., ..., 0., 0., 0.],\n",
              "         [0., 0., 0., ..., 0., 0., 0.],\n",
              "         [0., 0., 0., ..., 0., 0., 0.],\n",
              "         ...,\n",
              "         [0., 0., 0., ..., 0., 0., 0.],\n",
              "         [0., 0., 0., ..., 0., 0., 0.],\n",
              "         [0., 0., 0., ..., 0., 0., 0.]]]))"
            ]
          },
          "execution_count": 6,
          "metadata": {},
          "output_type": "execute_result"
        }
      ],
      "source": [
        "X_train = tf.keras.utils.normalize(X_train, axis=1)\n",
        "X_test = tf.keras.utils.normalize(X_test, axis=1)\n",
        "\n",
        "X_train, X_test"
      ]
    },
    {
      "cell_type": "markdown",
      "metadata": {
        "id": "SrpFBsWfD1lb"
      },
      "source": [
        "# Defining model"
      ]
    },
    {
      "cell_type": "code",
      "execution_count": 9,
      "metadata": {
        "id": "0eLgh8aqDe6_"
      },
      "outputs": [],
      "source": [
        "model = tf.keras.Sequential([\n",
        "    tf.keras.layers.Flatten(),\n",
        "    tf.keras.layers.Conv2D(),\n",
        "    tf.keras.layers.Dense(10),\n",
        "])\n",
        "\n",
        "model.compile(\n",
        "    optimizer=tf.keras.optimizers.Adam(learning_rate=0.0001),\n",
        "    loss='sparse_categorical_crossentropy',\n",
        "    metrics=['accuracy']\n",
        ")"
      ]
    },
    {
      "cell_type": "markdown",
      "metadata": {
        "id": "vKURXcp4EoFc"
      },
      "source": [
        "# Training model"
      ]
    },
    {
      "cell_type": "code",
      "execution_count": 10,
      "metadata": {
        "colab": {
          "base_uri": "https://localhost:8080/"
        },
        "id": "6IM7OY9VEq1P",
        "outputId": "248a8d72-43b2-4502-e9b5-d09a3a4d9453"
      },
      "outputs": [
        {
          "name": "stdout",
          "output_type": "stream",
          "text": [
            "Epoch 1/30\n",
            "1875/1875 [==============================] - 2s 508us/step - loss: 2.5802 - accuracy: 0.3972\n",
            "Epoch 2/30\n",
            "1875/1875 [==============================] - 1s 515us/step - loss: 1.4863 - accuracy: 0.6123\n",
            "Epoch 3/30\n",
            "1875/1875 [==============================] - 1s 507us/step - loss: 1.2858 - accuracy: 0.6853\n",
            "Epoch 4/30\n",
            "1875/1875 [==============================] - 1s 502us/step - loss: 1.1545 - accuracy: 0.7263\n",
            "Epoch 5/30\n",
            "1875/1875 [==============================] - 1s 505us/step - loss: 1.0699 - accuracy: 0.7605\n",
            "Epoch 6/30\n",
            "1875/1875 [==============================] - 1s 511us/step - loss: 0.9771 - accuracy: 0.7886\n",
            "Epoch 7/30\n",
            "1875/1875 [==============================] - 1s 512us/step - loss: 0.9160 - accuracy: 0.8055\n",
            "Epoch 8/30\n",
            "1875/1875 [==============================] - 1s 516us/step - loss: 0.8943 - accuracy: 0.8187\n",
            "Epoch 9/30\n",
            "1875/1875 [==============================] - 1s 508us/step - loss: 0.8395 - accuracy: 0.8380\n",
            "Epoch 10/30\n",
            "1875/1875 [==============================] - 1s 510us/step - loss: 0.8359 - accuracy: 0.8483\n",
            "Epoch 11/30\n",
            "1875/1875 [==============================] - 1s 510us/step - loss: 0.8749 - accuracy: 0.8527\n",
            "Epoch 12/30\n",
            "1875/1875 [==============================] - 1s 508us/step - loss: 0.9282 - accuracy: 0.8543\n",
            "Epoch 13/30\n",
            "1875/1875 [==============================] - 1s 515us/step - loss: 0.9677 - accuracy: 0.8574\n",
            "Epoch 14/30\n",
            "1875/1875 [==============================] - 1s 523us/step - loss: 1.0226 - accuracy: 0.8563\n",
            "Epoch 15/30\n",
            "1875/1875 [==============================] - 1s 503us/step - loss: 1.0676 - accuracy: 0.8547\n",
            "Epoch 16/30\n",
            "1875/1875 [==============================] - 1s 507us/step - loss: 1.1412 - accuracy: 0.8562\n",
            "Epoch 17/30\n",
            "1875/1875 [==============================] - 1s 501us/step - loss: 1.2171 - accuracy: 0.8525\n",
            "Epoch 18/30\n",
            "1875/1875 [==============================] - 1s 504us/step - loss: 1.2305 - accuracy: 0.8601\n",
            "Epoch 19/30\n",
            "1875/1875 [==============================] - 1s 505us/step - loss: 1.4502 - accuracy: 0.8488\n",
            "Epoch 20/30\n",
            "1875/1875 [==============================] - 1s 502us/step - loss: 1.7094 - accuracy: 0.8234\n",
            "Epoch 21/30\n",
            "1875/1875 [==============================] - 1s 501us/step - loss: 1.7068 - accuracy: 0.8148\n",
            "Epoch 22/30\n",
            "1875/1875 [==============================] - 1s 502us/step - loss: 1.7093 - accuracy: 0.7929\n",
            "Epoch 23/30\n",
            "1875/1875 [==============================] - 1s 500us/step - loss: 1.8053 - accuracy: 0.7869\n",
            "Epoch 24/30\n",
            "1875/1875 [==============================] - 1s 502us/step - loss: 1.9681 - accuracy: 0.7405\n",
            "Epoch 25/30\n",
            "1875/1875 [==============================] - 1s 504us/step - loss: 1.9251 - accuracy: 0.7279\n",
            "Epoch 26/30\n",
            "1875/1875 [==============================] - 1s 503us/step - loss: 1.8839 - accuracy: 0.7264\n",
            "Epoch 27/30\n",
            "1875/1875 [==============================] - 1s 508us/step - loss: 1.8610 - accuracy: 0.7149\n",
            "Epoch 28/30\n",
            "1875/1875 [==============================] - 1s 508us/step - loss: 1.8163 - accuracy: 0.7120\n",
            "Epoch 29/30\n",
            "1875/1875 [==============================] - 1s 507us/step - loss: 1.9406 - accuracy: 0.7050\n",
            "Epoch 30/30\n",
            "1875/1875 [==============================] - 1s 499us/step - loss: 1.9692 - accuracy: 0.6811\n"
          ]
        },
        {
          "data": {
            "text/plain": [
              "<keras.src.callbacks.History at 0x7fa49cd71090>"
            ]
          },
          "execution_count": 10,
          "metadata": {},
          "output_type": "execute_result"
        }
      ],
      "source": [
        "model.fit(X_train, y_train, shuffle=True, epochs=30)"
      ]
    },
    {
      "cell_type": "markdown",
      "metadata": {
        "id": "3zTVh2fOHU26"
      },
      "source": [
        "# Evaluation"
      ]
    },
    {
      "cell_type": "code",
      "execution_count": 11,
      "metadata": {
        "colab": {
          "base_uri": "https://localhost:8080/"
        },
        "id": "SYag9jmFHXQO",
        "outputId": "18e98326-6b9c-48ea-bbfc-9a0e2988772a"
      },
      "outputs": [
        {
          "name": "stdout",
          "output_type": "stream",
          "text": [
            "1875/1875 [==============================] - 1s 398us/step - loss: 1.9862 - accuracy: 0.6980\n"
          ]
        },
        {
          "data": {
            "text/plain": [
              "[1.9862234592437744, 0.698033332824707]"
            ]
          },
          "execution_count": 11,
          "metadata": {},
          "output_type": "execute_result"
        }
      ],
      "source": [
        "model.evaluate(X_train, y_train)"
      ]
    }
  ],
  "metadata": {
    "colab": {
      "provenance": []
    },
    "kernelspec": {
      "display_name": "Python 3",
      "name": "python3"
    },
    "language_info": {
      "codemirror_mode": {
        "name": "ipython",
        "version": 3
      },
      "file_extension": ".py",
      "mimetype": "text/x-python",
      "name": "python",
      "nbconvert_exporter": "python",
      "pygments_lexer": "ipython3",
      "version": "3.11.2"
    }
  },
  "nbformat": 4,
  "nbformat_minor": 0
}
